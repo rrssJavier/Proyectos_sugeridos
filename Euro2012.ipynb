{
  "nbformat": 4,
  "nbformat_minor": 0,
  "metadata": {
    "colab": {
      "provenance": [],
      "authorship_tag": "ABX9TyPTvTXUksjUpcfyyJ73UyHs",
      "include_colab_link": true
    },
    "kernelspec": {
      "name": "python3",
      "display_name": "Python 3"
    },
    "language_info": {
      "name": "python"
    }
  },
  "cells": [
    {
      "cell_type": "markdown",
      "metadata": {
        "id": "view-in-github",
        "colab_type": "text"
      },
      "source": [
        "<a href=\"https://colab.research.google.com/github/rrssJavier/Proyectos_sugeridos/blob/main/Euro2012.ipynb\" target=\"_parent\"><img src=\"https://colab.research.google.com/assets/colab-badge.svg\" alt=\"Open In Colab\"/></a>"
      ]
    },
    {
      "cell_type": "markdown",
      "source": [
        "# Questions\n",
        "\n",
        "\n",
        "1.   How many teams participated in the Euro2012?\n",
        "2. What is the number of columns in the dataset?\n",
        "3. View only the columns Team, Yellow Cards and Red Cards and assign them to a dataframe called discipline.\n",
        "4. Sort the teams by Red Cards, then to Yellow Cards.\n",
        "5. Calculate the mean Yellow Cards given per Team.\n",
        "6. Filter teams that scored more than 6 goals.\n",
        "7. Select the teams that start with the letter G.\n",
        "8. Select the first 7 columns.\n",
        "9. Select all columns except the last 3.\n",
        "10. Present only the Shooting Accuracy from England, Italy and Russia."
      ],
      "metadata": {
        "id": "-eZshtNrStRX"
      }
    },
    {
      "cell_type": "code",
      "execution_count": 1,
      "metadata": {
        "id": "LxrJuGPNSdH5"
      },
      "outputs": [],
      "source": [
        "import pandas as pd\n",
        "\n",
        "# Definimos origen y los nombres de la tabla y la base de datos\n",
        "url = 'https://raw.githubusercontent.com/guipsamora/pandas_exercises/master/02_Filtering_%26_Sorting/Euro12/Euro_2012_stats_TEAM.csv'\n",
        "# cargamos los datos en un dataframe\n",
        "datos_df = pd.read_csv(url, sep=',')"
      ]
    },
    {
      "cell_type": "code",
      "source": [
        "print(datos_df.shape[0],' equipos participaron en el Euro2012')"
      ],
      "metadata": {
        "colab": {
          "base_uri": "https://localhost:8080/"
        },
        "id": "T88kNpIETPTI",
        "outputId": "878d240b-7002-4d29-971e-01f8796c0df9"
      },
      "execution_count": 3,
      "outputs": [
        {
          "output_type": "stream",
          "name": "stdout",
          "text": [
            "16  equipos participaron en el Euro2012\n"
          ]
        }
      ]
    },
    {
      "cell_type": "code",
      "source": [
        "print('hay ',datos_df.shape[1],' columnas en el dataset')"
      ],
      "metadata": {
        "colab": {
          "base_uri": "https://localhost:8080/"
        },
        "id": "ZsqWrY4RTlSd",
        "outputId": "72b4ffa1-7663-4917-f3d2-56872f8a6823"
      },
      "execution_count": 14,
      "outputs": [
        {
          "output_type": "stream",
          "name": "stdout",
          "text": [
            "hay  35  columnas en el dataset\n"
          ]
        }
      ]
    },
    {
      "cell_type": "code",
      "source": [
        "disipline = datos_df[['Team','Yellow Cards','Red Cards']]"
      ],
      "metadata": {
        "id": "IThG5ujfT2uQ"
      },
      "execution_count": 6,
      "outputs": []
    },
    {
      "cell_type": "code",
      "source": [
        "print(disipline)"
      ],
      "metadata": {
        "id": "MDbdXEHRVt89"
      },
      "execution_count": null,
      "outputs": []
    },
    {
      "cell_type": "code",
      "source": [
        "df_por_tarjetas = datos_df.sort_values(by=['Red Cards', 'Yellow Cards'],ascending=[False,False])"
      ],
      "metadata": {
        "id": "h5bi_leKWzpM"
      },
      "execution_count": 8,
      "outputs": []
    },
    {
      "cell_type": "code",
      "source": [
        "print(df_por_tarjetas[['Team','Red Cards','Yellow Cards']])"
      ],
      "metadata": {
        "id": "NYnVZv0fXom8"
      },
      "execution_count": null,
      "outputs": []
    },
    {
      "cell_type": "code",
      "source": [
        "print(datos_df.groupby('Team')['Yellow Cards'].mean())"
      ],
      "metadata": {
        "id": "blw5oetYbV99"
      },
      "execution_count": null,
      "outputs": []
    },
    {
      "cell_type": "code",
      "source": [
        "teams_more_6_goals= datos_df[datos_df['Goals']>6]\n",
        "print(teams_more_6_goals[['Team','Goals']])"
      ],
      "metadata": {
        "colab": {
          "base_uri": "https://localhost:8080/"
        },
        "id": "YXlXJokEb_mz",
        "outputId": "91b1a26e-a189-4b74-e63f-8cf616e1861f"
      },
      "execution_count": 18,
      "outputs": [
        {
          "output_type": "stream",
          "name": "stdout",
          "text": [
            "       Team  Goals\n",
            "5   Germany     10\n",
            "13    Spain     12\n"
          ]
        }
      ]
    },
    {
      "cell_type": "code",
      "source": [
        "teams_g="
      ],
      "metadata": {
        "id": "HAuOH6hdd7Ib"
      },
      "execution_count": null,
      "outputs": []
    }
  ]
}